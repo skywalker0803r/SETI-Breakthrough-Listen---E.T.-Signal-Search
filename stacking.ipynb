{
 "cells": [
  {
   "cell_type": "code",
   "execution_count": 1,
   "id": "ad325d73",
   "metadata": {},
   "outputs": [
    {
     "name": "stderr",
     "output_type": "stream",
     "text": [
      "Global seed set to 42\n"
     ]
    }
   ],
   "source": [
    "import numpy as np\n",
    "import torch\n",
    "import random\n",
    "import os\n",
    "from pytorch_lightning import seed_everything\n",
    "from sklearn.model_selection import StratifiedKFold\n",
    "import pandas as pd\n",
    "from sklearn.metrics import roc_auc_score\n",
    "\n",
    "SEED = 42\n",
    "N_FOLDS = 5\n",
    "TRAIN_FOLD = 0\n",
    "def set_seed(seed = int):\n",
    "    '''Sets the seed of the entire notebook so results are the same every time we run.\n",
    "    This is for REPRODUCIBILITY.'''\n",
    "    np.random.seed(seed)\n",
    "    random_state = np.random.RandomState(seed)\n",
    "    random.seed(seed)\n",
    "    torch.manual_seed(seed)\n",
    "    torch.cuda.manual_seed(seed)\n",
    "    torch.backends.cudnn.deterministic = True\n",
    "    torch.backends.cudnn.benchmark = False\n",
    "    os.environ['PYTHONHASHSEED'] = str(seed)\n",
    "    seed_everything(seed)\n",
    "    return random_state\n",
    "\n",
    "\n",
    "random_state = set_seed(SEED)"
   ]
  },
  {
   "cell_type": "code",
   "execution_count": 2,
   "id": "75d3ce8f",
   "metadata": {},
   "outputs": [
    {
     "data": {
      "text/html": [
       "<div>\n",
       "<style scoped>\n",
       "    .dataframe tbody tr th:only-of-type {\n",
       "        vertical-align: middle;\n",
       "    }\n",
       "\n",
       "    .dataframe tbody tr th {\n",
       "        vertical-align: top;\n",
       "    }\n",
       "\n",
       "    .dataframe thead th {\n",
       "        text-align: right;\n",
       "    }\n",
       "</style>\n",
       "<table border=\"1\" class=\"dataframe\">\n",
       "  <thead>\n",
       "    <tr style=\"text-align: right;\">\n",
       "      <th></th>\n",
       "      <th>id</th>\n",
       "      <th>target</th>\n",
       "      <th>file_path</th>\n",
       "    </tr>\n",
       "  </thead>\n",
       "  <tbody>\n",
       "    <tr>\n",
       "      <th>0</th>\n",
       "      <td>00034abb3629</td>\n",
       "      <td>0</td>\n",
       "      <td>./seti-breakthrough-listen/train/0/00034abb362...</td>\n",
       "    </tr>\n",
       "    <tr>\n",
       "      <th>1</th>\n",
       "      <td>0004300a0b9b</td>\n",
       "      <td>0</td>\n",
       "      <td>./seti-breakthrough-listen/train/0/0004300a0b9...</td>\n",
       "    </tr>\n",
       "    <tr>\n",
       "      <th>2</th>\n",
       "      <td>000453852fda</td>\n",
       "      <td>0</td>\n",
       "      <td>./seti-breakthrough-listen/train/0/000453852fd...</td>\n",
       "    </tr>\n",
       "    <tr>\n",
       "      <th>3</th>\n",
       "      <td>00047dfc96a9</td>\n",
       "      <td>0</td>\n",
       "      <td>./seti-breakthrough-listen/train/0/00047dfc96a...</td>\n",
       "    </tr>\n",
       "    <tr>\n",
       "      <th>4</th>\n",
       "      <td>0004be0baf70</td>\n",
       "      <td>0</td>\n",
       "      <td>./seti-breakthrough-listen/train/0/0004be0baf7...</td>\n",
       "    </tr>\n",
       "    <tr>\n",
       "      <th>5</th>\n",
       "      <td>0005be4d0752</td>\n",
       "      <td>0</td>\n",
       "      <td>./seti-breakthrough-listen/train/0/0005be4d075...</td>\n",
       "    </tr>\n",
       "    <tr>\n",
       "      <th>6</th>\n",
       "      <td>0006457aa591</td>\n",
       "      <td>0</td>\n",
       "      <td>./seti-breakthrough-listen/train/0/0006457aa59...</td>\n",
       "    </tr>\n",
       "    <tr>\n",
       "      <th>7</th>\n",
       "      <td>0008fcc2f87d</td>\n",
       "      <td>0</td>\n",
       "      <td>./seti-breakthrough-listen/train/0/0008fcc2f87...</td>\n",
       "    </tr>\n",
       "    <tr>\n",
       "      <th>8</th>\n",
       "      <td>0009a92c4b1c</td>\n",
       "      <td>0</td>\n",
       "      <td>./seti-breakthrough-listen/train/0/0009a92c4b1...</td>\n",
       "    </tr>\n",
       "    <tr>\n",
       "      <th>9</th>\n",
       "      <td>000a6d98b0e4</td>\n",
       "      <td>0</td>\n",
       "      <td>./seti-breakthrough-listen/train/0/000a6d98b0e...</td>\n",
       "    </tr>\n",
       "    <tr>\n",
       "      <th>10</th>\n",
       "      <td>000aa7a1875d</td>\n",
       "      <td>0</td>\n",
       "      <td>./seti-breakthrough-listen/train/0/000aa7a1875...</td>\n",
       "    </tr>\n",
       "    <tr>\n",
       "      <th>11</th>\n",
       "      <td>000b676ce5ea</td>\n",
       "      <td>0</td>\n",
       "      <td>./seti-breakthrough-listen/train/0/000b676ce5e...</td>\n",
       "    </tr>\n",
       "    <tr>\n",
       "      <th>12</th>\n",
       "      <td>000bd0f1a44d</td>\n",
       "      <td>0</td>\n",
       "      <td>./seti-breakthrough-listen/train/0/000bd0f1a44...</td>\n",
       "    </tr>\n",
       "    <tr>\n",
       "      <th>13</th>\n",
       "      <td>000e36101603</td>\n",
       "      <td>0</td>\n",
       "      <td>./seti-breakthrough-listen/train/0/000e3610160...</td>\n",
       "    </tr>\n",
       "    <tr>\n",
       "      <th>14</th>\n",
       "      <td>00109b21291e</td>\n",
       "      <td>0</td>\n",
       "      <td>./seti-breakthrough-listen/train/0/00109b21291...</td>\n",
       "    </tr>\n",
       "    <tr>\n",
       "      <th>15</th>\n",
       "      <td>0011aea46310</td>\n",
       "      <td>0</td>\n",
       "      <td>./seti-breakthrough-listen/train/0/0011aea4631...</td>\n",
       "    </tr>\n",
       "    <tr>\n",
       "      <th>16</th>\n",
       "      <td>00159432736b</td>\n",
       "      <td>0</td>\n",
       "      <td>./seti-breakthrough-listen/train/0/00159432736...</td>\n",
       "    </tr>\n",
       "    <tr>\n",
       "      <th>17</th>\n",
       "      <td>0017185cd3f4</td>\n",
       "      <td>0</td>\n",
       "      <td>./seti-breakthrough-listen/train/0/0017185cd3f...</td>\n",
       "    </tr>\n",
       "    <tr>\n",
       "      <th>18</th>\n",
       "      <td>0018646aad1f</td>\n",
       "      <td>0</td>\n",
       "      <td>./seti-breakthrough-listen/train/0/0018646aad1...</td>\n",
       "    </tr>\n",
       "    <tr>\n",
       "      <th>19</th>\n",
       "      <td>001a18d3a379</td>\n",
       "      <td>0</td>\n",
       "      <td>./seti-breakthrough-listen/train/0/001a18d3a37...</td>\n",
       "    </tr>\n",
       "  </tbody>\n",
       "</table>\n",
       "</div>"
      ],
      "text/plain": [
       "              id  target                                          file_path\n",
       "0   00034abb3629       0  ./seti-breakthrough-listen/train/0/00034abb362...\n",
       "1   0004300a0b9b       0  ./seti-breakthrough-listen/train/0/0004300a0b9...\n",
       "2   000453852fda       0  ./seti-breakthrough-listen/train/0/000453852fd...\n",
       "3   00047dfc96a9       0  ./seti-breakthrough-listen/train/0/00047dfc96a...\n",
       "4   0004be0baf70       0  ./seti-breakthrough-listen/train/0/0004be0baf7...\n",
       "5   0005be4d0752       0  ./seti-breakthrough-listen/train/0/0005be4d075...\n",
       "6   0006457aa591       0  ./seti-breakthrough-listen/train/0/0006457aa59...\n",
       "7   0008fcc2f87d       0  ./seti-breakthrough-listen/train/0/0008fcc2f87...\n",
       "8   0009a92c4b1c       0  ./seti-breakthrough-listen/train/0/0009a92c4b1...\n",
       "9   000a6d98b0e4       0  ./seti-breakthrough-listen/train/0/000a6d98b0e...\n",
       "10  000aa7a1875d       0  ./seti-breakthrough-listen/train/0/000aa7a1875...\n",
       "11  000b676ce5ea       0  ./seti-breakthrough-listen/train/0/000b676ce5e...\n",
       "12  000bd0f1a44d       0  ./seti-breakthrough-listen/train/0/000bd0f1a44...\n",
       "13  000e36101603       0  ./seti-breakthrough-listen/train/0/000e3610160...\n",
       "14  00109b21291e       0  ./seti-breakthrough-listen/train/0/00109b21291...\n",
       "15  0011aea46310       0  ./seti-breakthrough-listen/train/0/0011aea4631...\n",
       "16  00159432736b       0  ./seti-breakthrough-listen/train/0/00159432736...\n",
       "17  0017185cd3f4       0  ./seti-breakthrough-listen/train/0/0017185cd3f...\n",
       "18  0018646aad1f       0  ./seti-breakthrough-listen/train/0/0018646aad1...\n",
       "19  001a18d3a379       0  ./seti-breakthrough-listen/train/0/001a18d3a37..."
      ]
     },
     "metadata": {},
     "output_type": "display_data"
    }
   ],
   "source": [
    "train = pd.read_csv('./seti-breakthrough-listen/train_labels.csv')\n",
    "test = pd.read_csv('./seti-breakthrough-listen/sample_submission.csv')\n",
    "\n",
    "def get_train_file_path(image_id):\n",
    "    return \"./seti-breakthrough-listen/train/{}/{}.npy\".format(image_id[0], image_id)\n",
    "\n",
    "def get_test_file_path(image_id):\n",
    "    return \"./seti-breakthrough-listen/test/{}/{}.npy\".format(image_id[0], image_id)\n",
    "\n",
    "train['file_path'] = train['id'].apply(get_train_file_path)\n",
    "test['file_path'] = test['id'].apply(get_test_file_path)\n",
    "\n",
    "display(train.head(20))"
   ]
  },
  {
   "cell_type": "markdown",
   "id": "cef57d5b",
   "metadata": {},
   "source": [
    "# get sub"
   ]
  },
  {
   "cell_type": "code",
   "execution_count": 3,
   "id": "9ffd04a6",
   "metadata": {},
   "outputs": [],
   "source": [
    "sub0 = pd.read_csv('sub_seed42_fold0.csv')\n",
    "sub1 = pd.read_csv('sub_seed42_fold1.csv')\n",
    "sub2 = pd.read_csv('sub_seed42_fold2.csv')\n",
    "sub3 = pd.read_csv('sub_seed42_fold3.csv')\n",
    "sub4 = pd.read_csv('sub_seed42_fold4.csv')"
   ]
  },
  {
   "cell_type": "code",
   "execution_count": 4,
   "id": "b035960a",
   "metadata": {},
   "outputs": [
    {
     "data": {
      "text/plain": [
       "0        0.014268\n",
       "1        0.010356\n",
       "2        0.057348\n",
       "3        0.031380\n",
       "4        0.011282\n",
       "           ...   \n",
       "35842    0.004217\n",
       "35843    0.021284\n",
       "35844    0.010877\n",
       "35845    0.007482\n",
       "35846    0.008737\n",
       "Name: target, Length: 35847, dtype: float64"
      ]
     },
     "execution_count": 4,
     "metadata": {},
     "output_type": "execute_result"
    }
   ],
   "source": [
    "sub = sub0.copy()\n",
    "sub['target']  = sub0['target']+sub1['target']+sub2['target']+sub3['target']+sub4['target']\n",
    "sub['target'] /= 5\n",
    "sub['target']"
   ]
  },
  {
   "cell_type": "code",
   "execution_count": 5,
   "id": "c265302b",
   "metadata": {},
   "outputs": [
    {
     "data": {
      "text/html": [
       "<div>\n",
       "<style scoped>\n",
       "    .dataframe tbody tr th:only-of-type {\n",
       "        vertical-align: middle;\n",
       "    }\n",
       "\n",
       "    .dataframe tbody tr th {\n",
       "        vertical-align: top;\n",
       "    }\n",
       "\n",
       "    .dataframe thead th {\n",
       "        text-align: right;\n",
       "    }\n",
       "</style>\n",
       "<table border=\"1\" class=\"dataframe\">\n",
       "  <thead>\n",
       "    <tr style=\"text-align: right;\">\n",
       "      <th></th>\n",
       "      <th>id</th>\n",
       "      <th>target</th>\n",
       "    </tr>\n",
       "  </thead>\n",
       "  <tbody>\n",
       "    <tr>\n",
       "      <th>18</th>\n",
       "      <td>001d7eb3f9cb</td>\n",
       "      <td>0.721702</td>\n",
       "    </tr>\n",
       "    <tr>\n",
       "      <th>20</th>\n",
       "      <td>001ff76166aa</td>\n",
       "      <td>0.829784</td>\n",
       "    </tr>\n",
       "    <tr>\n",
       "      <th>27</th>\n",
       "      <td>002d5868b367</td>\n",
       "      <td>0.638410</td>\n",
       "    </tr>\n",
       "    <tr>\n",
       "      <th>35</th>\n",
       "      <td>003954c7e391</td>\n",
       "      <td>0.779616</td>\n",
       "    </tr>\n",
       "    <tr>\n",
       "      <th>37</th>\n",
       "      <td>003b5326af50</td>\n",
       "      <td>0.566032</td>\n",
       "    </tr>\n",
       "    <tr>\n",
       "      <th>...</th>\n",
       "      <td>...</td>\n",
       "      <td>...</td>\n",
       "    </tr>\n",
       "    <tr>\n",
       "      <th>35820</th>\n",
       "      <td>ffcdb44aab9b</td>\n",
       "      <td>0.808111</td>\n",
       "    </tr>\n",
       "    <tr>\n",
       "      <th>35822</th>\n",
       "      <td>ffd062e29fe5</td>\n",
       "      <td>0.794242</td>\n",
       "    </tr>\n",
       "    <tr>\n",
       "      <th>35833</th>\n",
       "      <td>ffe37439d388</td>\n",
       "      <td>0.877124</td>\n",
       "    </tr>\n",
       "    <tr>\n",
       "      <th>35836</th>\n",
       "      <td>ffe6f31dcb95</td>\n",
       "      <td>0.904207</td>\n",
       "    </tr>\n",
       "    <tr>\n",
       "      <th>35839</th>\n",
       "      <td>ffe9fae2a48f</td>\n",
       "      <td>0.832886</td>\n",
       "    </tr>\n",
       "  </tbody>\n",
       "</table>\n",
       "<p>4284 rows × 2 columns</p>\n",
       "</div>"
      ],
      "text/plain": [
       "                 id    target\n",
       "18     001d7eb3f9cb  0.721702\n",
       "20     001ff76166aa  0.829784\n",
       "27     002d5868b367  0.638410\n",
       "35     003954c7e391  0.779616\n",
       "37     003b5326af50  0.566032\n",
       "...             ...       ...\n",
       "35820  ffcdb44aab9b  0.808111\n",
       "35822  ffd062e29fe5  0.794242\n",
       "35833  ffe37439d388  0.877124\n",
       "35836  ffe6f31dcb95  0.904207\n",
       "35839  ffe9fae2a48f  0.832886\n",
       "\n",
       "[4284 rows x 2 columns]"
      ]
     },
     "execution_count": 5,
     "metadata": {},
     "output_type": "execute_result"
    }
   ],
   "source": [
    "sub[sub['target']>0.5]"
   ]
  },
  {
   "cell_type": "code",
   "execution_count": 6,
   "id": "02dd24df",
   "metadata": {},
   "outputs": [
    {
     "data": {
      "text/plain": [
       "(0.938095856, 0.000450487284)"
      ]
     },
     "execution_count": 6,
     "metadata": {},
     "output_type": "execute_result"
    }
   ],
   "source": [
    "sub['target'].max(),sub['target'].min()"
   ]
  },
  {
   "cell_type": "code",
   "execution_count": 7,
   "id": "9bb3abe7",
   "metadata": {},
   "outputs": [
    {
     "data": {
      "text/plain": [
       "<AxesSubplot:ylabel='Density'>"
      ]
     },
     "execution_count": 7,
     "metadata": {},
     "output_type": "execute_result"
    },
    {
     "data": {
      "image/png": "[encoded data removed]",
      "text/plain": [
       "<Figure size 432x288 with 1 Axes>"
      ]
     },
     "metadata": {
      "needs_background": "light"
     },
     "output_type": "display_data"
    }
   ],
   "source": [
    "sub['target'].plot(kind='kde')"
   ]
  },
  {
   "cell_type": "markdown",
   "id": "81447446",
   "metadata": {},
   "source": [
    "# get oof"
   ]
  },
  {
   "cell_type": "code",
   "execution_count": 8,
   "id": "3c69eaba",
   "metadata": {},
   "outputs": [],
   "source": [
    "oof0 = pd.read_csv('oof_seed42_fold0.csv')\n",
    "oof1 = pd.read_csv('oof_seed42_fold1.csv')\n",
    "oof2 = pd.read_csv('oof_seed42_fold2.csv')\n",
    "oof3 = pd.read_csv('oof_seed42_fold3.csv')\n",
    "oof4 = pd.read_csv('oof_seed42_fold4.csv')"
   ]
  },
  {
   "cell_type": "code",
   "execution_count": 9,
   "id": "72e22420",
   "metadata": {},
   "outputs": [
    {
     "data": {
      "text/html": [
       "<div>\n",
       "<style scoped>\n",
       "    .dataframe tbody tr th:only-of-type {\n",
       "        vertical-align: middle;\n",
       "    }\n",
       "\n",
       "    .dataframe tbody tr th {\n",
       "        vertical-align: top;\n",
       "    }\n",
       "\n",
       "    .dataframe thead th {\n",
       "        text-align: right;\n",
       "    }\n",
       "</style>\n",
       "<table border=\"1\" class=\"dataframe\">\n",
       "  <thead>\n",
       "    <tr style=\"text-align: right;\">\n",
       "      <th></th>\n",
       "      <th>id</th>\n",
       "      <th>target</th>\n",
       "      <th>file_path</th>\n",
       "      <th>fold</th>\n",
       "      <th>preds</th>\n",
       "    </tr>\n",
       "  </thead>\n",
       "  <tbody>\n",
       "    <tr>\n",
       "      <th>0</th>\n",
       "      <td>00034abb3629</td>\n",
       "      <td>0</td>\n",
       "      <td>./seti-breakthrough-listen/train/0/00034abb362...</td>\n",
       "      <td>4</td>\n",
       "      <td>0.005463</td>\n",
       "    </tr>\n",
       "    <tr>\n",
       "      <th>1</th>\n",
       "      <td>0004300a0b9b</td>\n",
       "      <td>0</td>\n",
       "      <td>./seti-breakthrough-listen/train/0/0004300a0b9...</td>\n",
       "      <td>3</td>\n",
       "      <td>0.017906</td>\n",
       "    </tr>\n",
       "    <tr>\n",
       "      <th>2</th>\n",
       "      <td>000453852fda</td>\n",
       "      <td>0</td>\n",
       "      <td>./seti-breakthrough-listen/train/0/000453852fd...</td>\n",
       "      <td>0</td>\n",
       "      <td>0.041585</td>\n",
       "    </tr>\n",
       "    <tr>\n",
       "      <th>3</th>\n",
       "      <td>00047dfc96a9</td>\n",
       "      <td>0</td>\n",
       "      <td>./seti-breakthrough-listen/train/0/00047dfc96a...</td>\n",
       "      <td>1</td>\n",
       "      <td>0.003460</td>\n",
       "    </tr>\n",
       "    <tr>\n",
       "      <th>4</th>\n",
       "      <td>0004be0baf70</td>\n",
       "      <td>0</td>\n",
       "      <td>./seti-breakthrough-listen/train/0/0004be0baf7...</td>\n",
       "      <td>4</td>\n",
       "      <td>0.139507</td>\n",
       "    </tr>\n",
       "    <tr>\n",
       "      <th>...</th>\n",
       "      <td>...</td>\n",
       "      <td>...</td>\n",
       "      <td>...</td>\n",
       "      <td>...</td>\n",
       "      <td>...</td>\n",
       "    </tr>\n",
       "    <tr>\n",
       "      <th>50160</th>\n",
       "      <td>fff395e32a1e</td>\n",
       "      <td>0</td>\n",
       "      <td>./seti-breakthrough-listen/train/f/fff395e32a1...</td>\n",
       "      <td>1</td>\n",
       "      <td>0.002717</td>\n",
       "    </tr>\n",
       "    <tr>\n",
       "      <th>50161</th>\n",
       "      <td>fff66bbc51db</td>\n",
       "      <td>0</td>\n",
       "      <td>./seti-breakthrough-listen/train/f/fff66bbc51d...</td>\n",
       "      <td>4</td>\n",
       "      <td>0.002301</td>\n",
       "    </tr>\n",
       "    <tr>\n",
       "      <th>50162</th>\n",
       "      <td>fffaf1658eb7</td>\n",
       "      <td>0</td>\n",
       "      <td>./seti-breakthrough-listen/train/f/fffaf1658eb...</td>\n",
       "      <td>4</td>\n",
       "      <td>0.028246</td>\n",
       "    </tr>\n",
       "    <tr>\n",
       "      <th>50163</th>\n",
       "      <td>fffb0fc8c613</td>\n",
       "      <td>0</td>\n",
       "      <td>./seti-breakthrough-listen/train/f/fffb0fc8c61...</td>\n",
       "      <td>0</td>\n",
       "      <td>0.008893</td>\n",
       "    </tr>\n",
       "    <tr>\n",
       "      <th>50164</th>\n",
       "      <td>fffd1cad9995</td>\n",
       "      <td>0</td>\n",
       "      <td>./seti-breakthrough-listen/train/f/fffd1cad999...</td>\n",
       "      <td>1</td>\n",
       "      <td>0.001309</td>\n",
       "    </tr>\n",
       "  </tbody>\n",
       "</table>\n",
       "<p>50165 rows × 5 columns</p>\n",
       "</div>"
      ],
      "text/plain": [
       "                 id  target  \\\n",
       "0      00034abb3629       0   \n",
       "1      0004300a0b9b       0   \n",
       "2      000453852fda       0   \n",
       "3      00047dfc96a9       0   \n",
       "4      0004be0baf70       0   \n",
       "...             ...     ...   \n",
       "50160  fff395e32a1e       0   \n",
       "50161  fff66bbc51db       0   \n",
       "50162  fffaf1658eb7       0   \n",
       "50163  fffb0fc8c613       0   \n",
       "50164  fffd1cad9995       0   \n",
       "\n",
       "                                               file_path  fold     preds  \n",
       "0      ./seti-breakthrough-listen/train/0/00034abb362...     4  0.005463  \n",
       "1      ./seti-breakthrough-listen/train/0/0004300a0b9...     3  0.017906  \n",
       "2      ./seti-breakthrough-listen/train/0/000453852fd...     0  0.041585  \n",
       "3      ./seti-breakthrough-listen/train/0/00047dfc96a...     1  0.003460  \n",
       "4      ./seti-breakthrough-listen/train/0/0004be0baf7...     4  0.139507  \n",
       "...                                                  ...   ...       ...  \n",
       "50160  ./seti-breakthrough-listen/train/f/fff395e32a1...     1  0.002717  \n",
       "50161  ./seti-breakthrough-listen/train/f/fff66bbc51d...     4  0.002301  \n",
       "50162  ./seti-breakthrough-listen/train/f/fffaf1658eb...     4  0.028246  \n",
       "50163  ./seti-breakthrough-listen/train/f/fffb0fc8c61...     0  0.008893  \n",
       "50164  ./seti-breakthrough-listen/train/f/fffd1cad999...     1  0.001309  \n",
       "\n",
       "[50165 rows x 5 columns]"
      ]
     },
     "execution_count": 9,
     "metadata": {},
     "output_type": "execute_result"
    }
   ],
   "source": [
    "oof = pd.concat([oof0,oof1,oof2,oof3,oof4],axis=0)\n",
    "a = train.set_index('id')\n",
    "b = oof.set_index('id')\n",
    "oof = b.loc[a.index].reset_index()\n",
    "oof"
   ]
  },
  {
   "cell_type": "code",
   "execution_count": 10,
   "id": "9eb70d9d",
   "metadata": {},
   "outputs": [
    {
     "data": {
      "text/plain": [
       "<AxesSubplot:ylabel='Density'>"
      ]
     },
     "execution_count": 10,
     "metadata": {},
     "output_type": "execute_result"
    },
    {
     "data": {
      "image/png": "[encoded data removed]",
      "text/plain": [
       "<Figure size 432x288 with 1 Axes>"
      ]
     },
     "metadata": {
      "needs_background": "light"
     },
     "output_type": "display_data"
    }
   ],
   "source": [
    "oof['preds'].plot(kind='kde')"
   ]
  },
  {
   "cell_type": "code",
   "execution_count": 11,
   "id": "1576a479",
   "metadata": {},
   "outputs": [
    {
     "data": {
      "text/plain": [
       "{True: 50165}"
      ]
     },
     "execution_count": 11,
     "metadata": {},
     "output_type": "execute_result"
    }
   ],
   "source": [
    "a = train.id.values == oof.id.values\n",
    "unique, counts = np.unique(a, return_counts=True)\n",
    "dict(zip(unique, counts))"
   ]
  },
  {
   "cell_type": "markdown",
   "id": "68acb8e7",
   "metadata": {},
   "source": [
    "# level2 model"
   ]
  },
  {
   "cell_type": "code",
   "execution_count": 12,
   "id": "0341fd42",
   "metadata": {},
   "outputs": [
    {
     "name": "stderr",
     "output_type": "stream",
     "text": [
      "/opt/conda/lib/python3.7/site-packages/sklearn/utils/validation.py:63: DataConversionWarning: A column-vector y was passed when a 1d array was expected. Please change the shape of y to (n_samples, ), for example using ravel().\n",
      "  return f(*args, **kwargs)\n"
     ]
    },
    {
     "data": {
      "text/plain": [
       "0.985208810923951"
      ]
     },
     "execution_count": 12,
     "metadata": {},
     "output_type": "execute_result"
    }
   ],
   "source": [
    "from sklearn.linear_model import LogisticRegressionCV\n",
    "\n",
    "X = oof[['preds']].values\n",
    "y = oof[['target']].values\n",
    "clf = LogisticRegressionCV(cv=5, random_state=0).fit(X, y)\n",
    "clf.score(X, y)"
   ]
  },
  {
   "cell_type": "markdown",
   "id": "fab3efb6",
   "metadata": {},
   "source": [
    "# final_prob"
   ]
  },
  {
   "cell_type": "code",
   "execution_count": 13,
   "id": "0910dc2d",
   "metadata": {},
   "outputs": [
    {
     "data": {
      "text/html": [
       "<div>\n",
       "<style scoped>\n",
       "    .dataframe tbody tr th:only-of-type {\n",
       "        vertical-align: middle;\n",
       "    }\n",
       "\n",
       "    .dataframe tbody tr th {\n",
       "        vertical-align: top;\n",
       "    }\n",
       "\n",
       "    .dataframe thead th {\n",
       "        text-align: right;\n",
       "    }\n",
       "</style>\n",
       "<table border=\"1\" class=\"dataframe\">\n",
       "  <thead>\n",
       "    <tr style=\"text-align: right;\">\n",
       "      <th></th>\n",
       "      <th>id</th>\n",
       "      <th>target</th>\n",
       "    </tr>\n",
       "  </thead>\n",
       "  <tbody>\n",
       "    <tr>\n",
       "      <th>0</th>\n",
       "      <td>00034db451c4</td>\n",
       "      <td>0.008650</td>\n",
       "    </tr>\n",
       "    <tr>\n",
       "      <th>1</th>\n",
       "      <td>0006316b5ca0</td>\n",
       "      <td>0.008178</td>\n",
       "    </tr>\n",
       "    <tr>\n",
       "      <th>2</th>\n",
       "      <td>0006a953d21b</td>\n",
       "      <td>0.016027</td>\n",
       "    </tr>\n",
       "    <tr>\n",
       "      <th>3</th>\n",
       "      <td>0008a33d6695</td>\n",
       "      <td>0.011057</td>\n",
       "    </tr>\n",
       "    <tr>\n",
       "      <th>4</th>\n",
       "      <td>00095b5119fc</td>\n",
       "      <td>0.008287</td>\n",
       "    </tr>\n",
       "    <tr>\n",
       "      <th>...</th>\n",
       "      <td>...</td>\n",
       "      <td>...</td>\n",
       "    </tr>\n",
       "    <tr>\n",
       "      <th>35842</th>\n",
       "      <td>ffeed3a168de</td>\n",
       "      <td>0.007487</td>\n",
       "    </tr>\n",
       "    <tr>\n",
       "      <th>35843</th>\n",
       "      <td>fff177e32aac</td>\n",
       "      <td>0.009567</td>\n",
       "    </tr>\n",
       "    <tr>\n",
       "      <th>35844</th>\n",
       "      <td>fff7d40b225a</td>\n",
       "      <td>0.008239</td>\n",
       "    </tr>\n",
       "    <tr>\n",
       "      <th>35845</th>\n",
       "      <td>fff8238a709f</td>\n",
       "      <td>0.007847</td>\n",
       "    </tr>\n",
       "    <tr>\n",
       "      <th>35846</th>\n",
       "      <td>fff882b197de</td>\n",
       "      <td>0.007989</td>\n",
       "    </tr>\n",
       "  </tbody>\n",
       "</table>\n",
       "<p>35847 rows × 2 columns</p>\n",
       "</div>"
      ],
      "text/plain": [
       "                 id    target\n",
       "0      00034db451c4  0.008650\n",
       "1      0006316b5ca0  0.008178\n",
       "2      0006a953d21b  0.016027\n",
       "3      0008a33d6695  0.011057\n",
       "4      00095b5119fc  0.008287\n",
       "...             ...       ...\n",
       "35842  ffeed3a168de  0.007487\n",
       "35843  fff177e32aac  0.009567\n",
       "35844  fff7d40b225a  0.008239\n",
       "35845  fff8238a709f  0.007847\n",
       "35846  fff882b197de  0.007989\n",
       "\n",
       "[35847 rows x 2 columns]"
      ]
     },
     "execution_count": 13,
     "metadata": {},
     "output_type": "execute_result"
    }
   ],
   "source": [
    "final_prob = clf.predict_proba(sub[['target']].values)\n",
    "final_df = sub.copy()\n",
    "final_df['target'] = 1-final_prob\n",
    "final_df"
   ]
  },
  {
   "cell_type": "code",
   "execution_count": 14,
   "id": "e8931acd",
   "metadata": {},
   "outputs": [
    {
     "data": {
      "text/plain": [
       "<AxesSubplot:ylabel='Density'>"
      ]
     },
     "execution_count": 14,
     "metadata": {},
     "output_type": "execute_result"
    },
    {
     "data": {
      "image/png": "[encoded data removed]",
      "text/plain": [
       "<Figure size 432x288 with 1 Axes>"
      ]
     },
     "metadata": {
      "needs_background": "light"
     },
     "output_type": "display_data"
    }
   ],
   "source": [
    "final_df['target'].plot(kind='kde')"
   ]
  },
  {
   "cell_type": "code",
   "execution_count": 15,
   "id": "9662de7f",
   "metadata": {},
   "outputs": [
    {
     "data": {
      "text/html": [
       "<div>\n",
       "<style scoped>\n",
       "    .dataframe tbody tr th:only-of-type {\n",
       "        vertical-align: middle;\n",
       "    }\n",
       "\n",
       "    .dataframe tbody tr th {\n",
       "        vertical-align: top;\n",
       "    }\n",
       "\n",
       "    .dataframe thead th {\n",
       "        text-align: right;\n",
       "    }\n",
       "</style>\n",
       "<table border=\"1\" class=\"dataframe\">\n",
       "  <thead>\n",
       "    <tr style=\"text-align: right;\">\n",
       "      <th></th>\n",
       "      <th>id</th>\n",
       "      <th>target</th>\n",
       "    </tr>\n",
       "  </thead>\n",
       "  <tbody>\n",
       "    <tr>\n",
       "      <th>18</th>\n",
       "      <td>001d7eb3f9cb</td>\n",
       "      <td>0.995963</td>\n",
       "    </tr>\n",
       "    <tr>\n",
       "      <th>20</th>\n",
       "      <td>001ff76166aa</td>\n",
       "      <td>0.999154</td>\n",
       "    </tr>\n",
       "    <tr>\n",
       "      <th>27</th>\n",
       "      <td>002d5868b367</td>\n",
       "      <td>0.986631</td>\n",
       "    </tr>\n",
       "    <tr>\n",
       "      <th>35</th>\n",
       "      <td>003954c7e391</td>\n",
       "      <td>0.998251</td>\n",
       "    </tr>\n",
       "    <tr>\n",
       "      <th>37</th>\n",
       "      <td>003b5326af50</td>\n",
       "      <td>0.962771</td>\n",
       "    </tr>\n",
       "    <tr>\n",
       "      <th>...</th>\n",
       "      <td>...</td>\n",
       "      <td>...</td>\n",
       "    </tr>\n",
       "    <tr>\n",
       "      <th>35820</th>\n",
       "      <td>ffcdb44aab9b</td>\n",
       "      <td>0.998842</td>\n",
       "    </tr>\n",
       "    <tr>\n",
       "      <th>35822</th>\n",
       "      <td>ffd062e29fe5</td>\n",
       "      <td>0.998585</td>\n",
       "    </tr>\n",
       "    <tr>\n",
       "      <th>35833</th>\n",
       "      <td>ffe37439d388</td>\n",
       "      <td>0.999574</td>\n",
       "    </tr>\n",
       "    <tr>\n",
       "      <th>35836</th>\n",
       "      <td>ffe6f31dcb95</td>\n",
       "      <td>0.999712</td>\n",
       "    </tr>\n",
       "    <tr>\n",
       "      <th>35839</th>\n",
       "      <td>ffe9fae2a48f</td>\n",
       "      <td>0.999191</td>\n",
       "    </tr>\n",
       "  </tbody>\n",
       "</table>\n",
       "<p>4613 rows × 2 columns</p>\n",
       "</div>"
      ],
      "text/plain": [
       "                 id    target\n",
       "18     001d7eb3f9cb  0.995963\n",
       "20     001ff76166aa  0.999154\n",
       "27     002d5868b367  0.986631\n",
       "35     003954c7e391  0.998251\n",
       "37     003b5326af50  0.962771\n",
       "...             ...       ...\n",
       "35820  ffcdb44aab9b  0.998842\n",
       "35822  ffd062e29fe5  0.998585\n",
       "35833  ffe37439d388  0.999574\n",
       "35836  ffe6f31dcb95  0.999712\n",
       "35839  ffe9fae2a48f  0.999191\n",
       "\n",
       "[4613 rows x 2 columns]"
      ]
     },
     "execution_count": 15,
     "metadata": {},
     "output_type": "execute_result"
    }
   ],
   "source": [
    "final_df[final_df['target']>0.5]"
   ]
  },
  {
   "cell_type": "code",
   "execution_count": 16,
   "id": "dd517fe2",
   "metadata": {},
   "outputs": [],
   "source": [
    "final_df.to_csv('stacking_5fold_byLogisticRegressionCV.csv',index=False)"
   ]
  }
 ],
 "metadata": {
  "kernelspec": {
   "display_name": "Python 3",
   "language": "python",
   "name": "python3"
  },
  "language_info": {
   "codemirror_mode": {
    "name": "ipython",
    "version": 3
   },
   "file_extension": ".py",
   "mimetype": "text/x-python",
   "name": "python",
   "nbconvert_exporter": "python",
   "pygments_lexer": "ipython3",
   "version": "3.7.4"
  }
 },
 "nbformat": 4,
 "nbformat_minor": 5
}
